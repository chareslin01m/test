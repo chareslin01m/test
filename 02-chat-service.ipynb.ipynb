{
 "cells": [
  {
   "cell_type": "markdown",
   "id": "4d75ceac",
   "metadata": {},
   "source": [
    "# GitHub RAG - Chat Service"
   ]
  },
  {
   "cell_type": "code",
   "execution_count": 37,
   "id": "30da8ec5",
   "metadata": {},
   "outputs": [
    {
     "data": {
      "text/plain": [
       "True"
      ]
     },
     "execution_count": 37,
     "metadata": {},
     "output_type": "execute_result"
    }
   ],
   "source": [
    "from dotenv import load_dotenv\n",
    "\n",
    "load_dotenv()"
   ]
  },
  {
   "cell_type": "markdown",
   "id": "fac8b6d4",
   "metadata": {},
   "source": [
    "### LangChain 추적\n"
   ]
  },
  {
   "cell_type": "code",
   "execution_count": 38,
   "id": "0eaca08a",
   "metadata": {},
   "outputs": [],
   "source": [
    "import os\n",
    "\n",
    "os.environ[\"LANGCHAIN_TRACING_V2\"] = \"true\"\n",
    "os.environ[\"LANGCHAIN_PROJECT\"] = \"RAG Chat Service\""
   ]
  },
  {
   "cell_type": "code",
   "execution_count": 39,
   "id": "e6fe3d47",
   "metadata": {},
   "outputs": [],
   "source": [
    "from typing import TypedDict\n",
    "\n",
    "\n",
    "# GraphState 요소는 상태를 전달하는 용도로 사용됩니다.\n",
    "class GraphState(TypedDict):\n",
    "    #answer1: str\n",
    "    #answer2: str\n",
    "    temp : int # 임시로 \n",
    "    status: str  # 상태(재질문, 다음 작업, 종료)\n",
    "    question: str  # 질문\n",
    "    context: str  # 문서의 검색 결과\n",
    "    answer: str  # 답변\n",
    "    relevance: str  # 답변의 문서에 대한 관련성\n",
    "    prompt : str"
   ]
  },
  {
   "cell_type": "markdown",
   "id": "5b727038",
   "metadata": {},
   "source": [
    "### [추가됨] Load Combined Documents from Local File(Store)"
   ]
  },
  {
   "cell_type": "markdown",
   "id": "920ad330",
   "metadata": {},
   "source": [
    "미리 저장해둔 Documents 파일에서 문서를 로드한다"
   ]
  },
  {
   "cell_type": "code",
   "execution_count": 40,
   "id": "a58341fb",
   "metadata": {},
   "outputs": [
    {
     "name": "stdout",
     "output_type": "stream",
     "text": [
      "Documents loaded from ./documents/combined_documents.pkl\n"
     ]
    }
   ],
   "source": [
    "import pickle\n",
    "\n",
    "# 문서들을 로컬 파일에서 불러오는 함수\n",
    "def load_documents_from_file(file_path):\n",
    "    with open(file_path, 'rb') as f:\n",
    "        documents = pickle.load(f)\n",
    "    print(f\"Documents loaded from {file_path}\")\n",
    "    return documents\n",
    "\n",
    "# 저장된 문서들을 로컬 파일에서 불러오기\n",
    "combined_documents = load_documents_from_file('./documents/combined_documents.pkl')"
   ]
  },
  {
   "cell_type": "markdown",
   "id": "f4d56783",
   "metadata": {},
   "source": [
    "### Cached Embedding 불러오기"
   ]
  },
  {
   "cell_type": "code",
   "execution_count": 41,
   "id": "ddd16063",
   "metadata": {},
   "outputs": [],
   "source": [
    "# langchain_openai와 langchain의 필요한 모듈들을 가져옵니다.\n",
    "from langchain_openai import OpenAIEmbeddings\n",
    "from langchain.embeddings import CacheBackedEmbeddings\n",
    "from langchain.storage import LocalFileStore\n",
    "\n",
    "# 로컬 파일 저장소를 사용하기 위해 LocalFileStore 인스턴스를 생성합니다.\n",
    "# './cache/' 디렉토리에 데이터를 저장합니다.\n",
    "store = LocalFileStore(\"./cache/\")\n",
    "\n",
    "# OpenAI 임베딩 모델 인스턴스를 생성합니다. 모델명으로 \"text-embedding-3-small\"을 사용합니다.\n",
    "embeddings = OpenAIEmbeddings(\n",
    "    model=\"text-embedding-3-small\", disallowed_special=())\n",
    "\n",
    "# CacheBackedEmbeddings를 사용하여 임베딩 계산 결과를 캐시합니다.\n",
    "# 이렇게 하면 임베딩을 여러 번 계산할 필요 없이 한 번 계산된 값을 재사용할 수 있습니다.\n",
    "cached_embeddings = CacheBackedEmbeddings.from_bytes_store(\n",
    "    embeddings, store, namespace=embeddings.model\n",
    ")"
   ]
  },
  {
   "cell_type": "markdown",
   "id": "28bc336c",
   "metadata": {},
   "source": [
    "저장한 FAISS 데이터베이스를 불러옵니다. 이후 실행시에는 새롭게 DB 에 저장할 필요없이 아래 코드만 실행하면 됩니다."
   ]
  },
  {
   "cell_type": "code",
   "execution_count": 42,
   "id": "ea9c2063",
   "metadata": {},
   "outputs": [],
   "source": [
    "# langchain_community 모듈에서 FAISS 클래스를 가져옵니다.\n",
    "from langchain_community.vectorstores import FAISS\n",
    "\n",
    "# 로컬에 저장된 FAISS 인덱스의 폴더 이름을 지정합니다.\n",
    "FAISS_DB_INDEX = \"langchain_faiss\"\n",
    "\n",
    "# FAISS 클래스의 load_local 메서드를 사용하여 저장된 벡터 인덱스를 로드합니다.\n",
    "db = FAISS.load_local(\n",
    "    FAISS_DB_INDEX,  # 로드할 FAISS 인덱스의 디렉토리 이름\n",
    "    cached_embeddings,  # 임베딩 정보를 제공\n",
    "    allow_dangerous_deserialization=True,  # 역직렬화를 허용하는 옵션\n",
    ")\n"
   ]
  },
  {
   "cell_type": "markdown",
   "id": "28ecd73d",
   "metadata": {},
   "source": [
    "## Retriever\n"
   ]
  },
  {
   "cell_type": "code",
   "execution_count": 43,
   "id": "af887d16",
   "metadata": {},
   "outputs": [],
   "source": [
    "# langchain.retrievers 모듈에서 BM25Retriever 클래스를 가져옵니다.\n",
    "from langchain.retrievers import BM25Retriever\n",
    "from langchain.retrievers import EnsembleRetriever\n",
    "\n",
    "ensemble_retriever = None\n",
    "\n",
    "def retriever(state: GraphState) -> GraphState:\n",
    "    global ensemble_retriever\n",
    "\n",
    "\n",
    "    # MMR을 사용하여 검색을 수행하는 retriever를 생성합니다.\n",
    "    faiss_retriever = db.as_retriever(search_type=\"mmr\", search_kwargs={\"k\": 3})\n",
    "\n",
    "    # 문서 컬렉션을 사용하여 BM25 검색 모델 인스턴스를 생성합니다.\n",
    "    bm25_retriever = BM25Retriever.from_documents(\n",
    "        combined_documents  # 초기화에 사용할 문서 컬렉션\n",
    "    )\n",
    "\n",
    "    # BM25Retriever 인스턴스의 k 속성을 10으로 설정하여,\n",
    "    # 검색 시 최대 10개의 결과를 반환하도록 합니다.\n",
    "    bm25_retriever.k = 3\n",
    "\n",
    "    # langchain.retrievers 모듈에서 EnsembleRetriever 클래스를 가져옵니다.\n",
    "\n",
    "\n",
    "    # EnsembleRetriever 인스턴스를 생성합니다.\n",
    "    # 이때, BM25 검색 모델과 FAISS 검색 모델을 결합하여 사용합니다.\n",
    "    ensemble_retriever = EnsembleRetriever(\n",
    "        retrievers=[bm25_retriever, faiss_retriever],  # 사용할 검색 모델의 리스트\n",
    "        weights=[0.6, 0.4],  # 각 검색 모델의 결과에 적용할 가중치\n",
    "        search_type=\"mmr\",  # 검색 결과의 다양성을 증진시키는 MMR 방식을 사용\n",
    "    )\n",
    "\n",
    "    ensemble_result =  ensemble_retriever.invoke(state[\"question\"])\n",
    "\n",
    "    if not isinstance(ensemble_result, str):\n",
    "        ensemble_result = str(ensemble_result)\n",
    "\n",
    "    return GraphState(question=state[\"question\"], context=ensemble_result)\n",
    "\n",
    "\n",
    "\n",
    "\n"
   ]
  },
  {
   "cell_type": "code",
   "execution_count": 44,
   "id": "c9d929a8",
   "metadata": {},
   "outputs": [],
   "source": [
    "\n",
    "#ensemble_retriever.invoke(\"2024년 전망\")"
   ]
  },
  {
   "cell_type": "markdown",
   "id": "585cd3bf",
   "metadata": {},
   "source": [
    "## 파이프라인 연결\n",
    "\n",
    "chain 을 구성합니다.\n"
   ]
  },
  {
   "cell_type": "markdown",
   "id": "ad4aaaa5",
   "metadata": {},
   "source": [
    "### 프롬프트\n"
   ]
  },
  {
   "cell_type": "code",
   "execution_count": 45,
   "id": "385c5e00",
   "metadata": {},
   "outputs": [],
   "source": [
    "from langchain_core.prompts import PromptTemplate\n",
    "\n",
    "prompt = None\n",
    "\n",
    "def prompt_write(state: GraphState) -> GraphState:\n",
    "\n",
    "    prompt_write = \"\"\"당신은 20년차 AI 개발자입니다. 당신의 임무는 주어진 질문에 대하여 최대한 문서의 정보를 활용하여 답변하는 것입니다.\n",
    "    문서는 Python 코드에 대한 정보를 담고 있습니다. 따라서, 답변을 작성할 때에는 Python 코드에 대한 상세한 code snippet을 포함하여 작성해주세요.\n",
    "    최대한 자세하게 답변하고, 한글로 답변해 주세요. 주어진 문서에서 답변을 찾을 수 없는 경우, \"문서에 답변이 없습니다.\"라고 답변해 주세요.\n",
    "    주어진 문서에 답변을 찾을수 있을때만 출처(source)에 \"RAG에서 참조함\" 이라고 답변해.\n",
    "\n",
    "    #참고문서:\n",
    "    {context}\n",
    "\n",
    "    #질문:\n",
    "    {question}\n",
    "\n",
    "    #답변: \n",
    "\n",
    "    출처:\n",
    "    - source1\n",
    "    - source2\n",
    "    - ...                             \n",
    "    \"\"\"\n",
    "    return GraphState(prompt=prompt_write)\n",
    "\n",
    "\n",
    "#prompt_write(0)"
   ]
  },
  {
   "cell_type": "markdown",
   "id": "e007cf3a",
   "metadata": {},
   "source": [
    "### LLM 정의\n"
   ]
  },
  {
   "cell_type": "code",
   "execution_count": 46,
   "id": "6415a9ac",
   "metadata": {},
   "outputs": [],
   "source": [
    "from langchain.callbacks.base import BaseCallbackHandler\n",
    "from langchain_core.callbacks.streaming_stdout import StreamingStdOutCallbackHandler\n",
    "from langchain_core.callbacks.manager import CallbackManager\n",
    "from langchain_core.runnables import ConfigurableField\n",
    "from langchain_core.output_parsers import StrOutputParser\n",
    "from langchain_core.runnables import RunnablePassthrough\n",
    "from langchain_community.chat_models import ChatOllama\n",
    "from langchain_openai import ChatOpenAI\n",
    "from langchain_anthropic import ChatAnthropic\n",
    "\n",
    "\n",
    "class StreamCallback(BaseCallbackHandler):\n",
    "    def on_llm_new_token(self, token: str, **kwargs):\n",
    "        print(token, end=\"\", flush=True)\n",
    "\n",
    "\n",
    "llm = ChatOpenAI(\n",
    "    model=\"gpt-4o\",\n",
    "    temperature=0,\n",
    "    streaming=True,\n",
    "    callbacks=[StreamCallback()],\n",
    ").configurable_alternatives(\n",
    "    # 이 필드에 id를 부여합니다.\n",
    "    # 최종 실행 가능한 객체를 구성할 때, 이 id를 사용하여 이 필드를 구성할 수 있습니다.\n",
    "    ConfigurableField(id=\"llm\"),\n",
    "    # 기본 키를 설정합니다.\n",
    "    default_key=\"gpt4\",\n",
    "    claude=ChatAnthropic(\n",
    "        model=\"claude-3-5-sonnet-20240620\",\n",
    "        temperature=0,\n",
    "        streaming=True,\n",
    "        callbacks=[StreamCallback()],\n",
    "    ),\n",
    "    gpt3=ChatOpenAI(\n",
    "        model=\"gpt-3.5-turbo\",\n",
    "        temperature=0,\n",
    "        streaming=True,\n",
    "        callbacks=[StreamCallback()],\n",
    "    ),\n",
    "    ollama=ChatOllama(\n",
    "        model=\"llama3-korea\",\n",
    "        callback_manager=CallbackManager([StreamingStdOutCallbackHandler()]),\n",
    "    ),\n",
    ")\n",
    "\n",
    "\n"
   ]
  },
  {
   "cell_type": "code",
   "execution_count": 47,
   "id": "36c2993b",
   "metadata": {},
   "outputs": [],
   "source": [
    "from langchain_upstage import UpstageGroundednessCheck\n",
    "\n",
    "# 업스테이지 문서 관련성 체크 기능을 설정합니다. https://upstage.ai\n",
    "upstage_ground_checker = UpstageGroundednessCheck()\n",
    "\n",
    "\n",
    "def relevance_check(state: GraphState) -> GraphState:\n",
    "    # 관련성 체크를 실행합니다. 결과: grounded, notGrounded, notSure\n",
    "    response = upstage_ground_checker.run(\n",
    "        {\"context\": state[\"context\"], \"answer\": state[\"answer\"]}\n",
    "    )\n",
    "    return GraphState(\n",
    "       # relevance=response,\n",
    "       # context=state[\"context\"],\n",
    "       # answer=state[\"answer\"],\n",
    "        status=state[\"status\"]\n",
    "    )\n",
    "\n",
    "def is_relevant(state: GraphState) -> GraphState:\n",
    "    return state[\"relevance\"]"
   ]
  },
  {
   "cell_type": "code",
   "execution_count": 48,
   "id": "4aae0c53",
   "metadata": {},
   "outputs": [],
   "source": [
    "rag_chain = None\n",
    "\n",
    "# 체인을 생성합니다.\n",
    "def chain_create(state: GraphState) -> GraphState:\n",
    "    global rag_chain\n",
    "    \n",
    "    context = state[\"context\"]\n",
    "    prompt = state[\"prompt\"]\n",
    "\n",
    "    rag_chain = (\n",
    "        {\"context\": context, \"question\": RunnablePassthrough()} | prompt | llm | StrOutputParser()\n",
    "    )\n",
    "    return GraphState(status=state[\"status\"])\n",
    "\n"
   ]
  },
  {
   "cell_type": "markdown",
   "id": "cc93eda6",
   "metadata": {},
   "source": [
    "## 질의-응답 테스트\n"
   ]
  },
  {
   "cell_type": "code",
   "execution_count": 49,
   "id": "23b36011",
   "metadata": {},
   "outputs": [],
   "source": [
    "\n",
    "def answers(state: GraphState) -> GraphState:\n",
    "\n",
    "    \n",
    "    answer = rag_chain.with_config(configurable={\"llm\": \"gpt4\"}).invoke(state[\"question\"])\n",
    "\n",
    "    return GraphState(status=\"A\")\n",
    "\n",
    "\n"
   ]
  },
  {
   "cell_type": "markdown",
   "id": "a3340fdf",
   "metadata": {},
   "source": [
    "그래프 정의"
   ]
  },
  {
   "cell_type": "code",
   "execution_count": 50,
   "id": "8af9446a",
   "metadata": {},
   "outputs": [],
   "source": [
    "from langgraph.graph import END, StateGraph\n",
    "from langgraph.checkpoint.memory import MemorySaver\n",
    "\n",
    "# langgraph.graph에서 StateGraph와 END를 가져옵니다.\n",
    "workflow = StateGraph(GraphState)\n",
    "\n",
    "\n",
    "# Todo 를 작성합니다.\n",
    "workflow.add_node(\"retriever\", retriever) \n",
    "workflow.add_node(\"prompt_write\", prompt_write) \n",
    "workflow.add_node(\"chain_create\", chain_create) \n",
    "workflow.add_node(\"answers\", answers) \n",
    "workflow.add_node(\"relevance_check\", relevance_check)  # 답변의 문서에 대한 관련성 체크 노드를 추가합니다.\n",
    "\n",
    "\n",
    "\n",
    "# 각 노드들을 연결합니다.\n",
    "workflow.add_edge(\"retriever\", \"prompt_write\")\n",
    "workflow.add_edge(\"prompt_write\", \"chain_create\")\n",
    "workflow.add_edge(\"chain_create\", \"answers\")\n",
    "workflow.add_edge(\"answers\", \"relevance_check\")\n",
    "\n",
    "\n",
    "\n",
    "\n",
    "\n",
    "# 조건부 엣지를 추가합니다.\n",
    "workflow.add_conditional_edges(\n",
    "    \"relevance_check\",  # 관련성 체크 노드에서 나온 결과를 is_relevant 함수에 전달합니다.\n",
    "    is_relevant,\n",
    "    {\n",
    "        \"grounded\": END,  # 관련성이 있으면 종료합니다.\n",
    "        \"notGrounded\": \"answers\",  # 관련성이 없으면 다시 답변을 생성합니다.\n",
    "        \"notSure\": \"answers\",  # 관련성 체크 결과가 모호하다면 다시 답변을 생성합니다.\n",
    "    },\n",
    ")\n",
    "\n",
    "\n",
    "# 시작점을 설정합니다.\n",
    "workflow.set_entry_point(\"retriever\")\n",
    "\n",
    "# 기록을 위한 메모리 저장소를 설정합니다.\n",
    "memory = MemorySaver()\n",
    "\n",
    "# 그래프를 컴파일합니다.\n",
    "app = workflow.compile(checkpointer=memory)\n",
    "\n"
   ]
  },
  {
   "cell_type": "markdown",
   "id": "732d7764",
   "metadata": {},
   "source": [
    "그래프화"
   ]
  },
  {
   "cell_type": "code",
   "execution_count": 51,
   "id": "60166f68",
   "metadata": {},
   "outputs": [
    {
     "data": {
      "image/jpeg": "[encoded data removed]",
      "text/plain": [
       "<IPython.core.display.Image object>"
      ]
     },
     "metadata": {},
     "output_type": "display_data"
    }
   ],
   "source": [
    "from IPython.display import Image, display\n",
    "\n",
    "try:\n",
    "    display(\n",
    "        Image(app.get_graph(xray=True).draw_mermaid_png())\n",
    "    )  # 실행 가능한 객체의 그래프를 mermaid 형식의 PNG로 그려서 표시합니다. \n",
    "       # xray=True는 추가적인 세부 정보를 포함합니다.\n",
    "except:\n",
    "    # 이 부분은 추가적인 의존성이 필요하며 선택적으로 실행됩니다.\n",
    "    pass"
   ]
  },
  {
   "cell_type": "code",
   "execution_count": 52,
   "id": "9ec64fba",
   "metadata": {},
   "outputs": [
    {
     "name": "stdout",
     "output_type": "stream",
     "text": [
      "\"Error during app.invoke: unsupported operand type(s) for |: 'dict' and 'str'\"\n"
     ]
    }
   ],
   "source": [
    "# import pprint\n",
    "# from langgraph.errors import GraphRecursionError\n",
    "# from langchain_core.runnables import RunnableConfig\n",
    "\n",
    "# config = RunnableConfig(recursion_limit=200, configurable={\"thread_id\": \"TODO3\"})\n",
    "\n",
    "# inputs = GraphState(goal=\"랭체인기\", status=0)\n",
    "\n",
    "# output = app.invoke(inputs, config=config)\n",
    "\n",
    "\n",
    "import pprint\n",
    "from langgraph.errors import GraphRecursionError\n",
    "from langchain_core.runnables import RunnableConfig\n",
    "\n",
    "# RunnableConfig 초기화\n",
    "config = RunnableConfig(\n",
    "    recursion_limit=100,  # 재귀 제한을 200으로 설정\n",
    "    configurable={\"thread_id\": \"TODO\"}  # 적절한 thread_id로 대체\n",
    ")\n",
    "\n",
    "\n",
    "\n",
    "# 입력 데이터 설정 (goal 및 status 포함)\n",
    "inputs: GraphState = {\n",
    "    \"question\": \"포토샵에 대해서 알려줘\"\n",
    "}\n",
    "\n",
    "\n",
    "try:\n",
    "    # app.invoke 호출\n",
    "    output = app.invoke(inputs, config=config)\n",
    "    # 결과 출력\n",
    "    pprint.pprint(output)\n",
    "except GraphRecursionError as e:\n",
    "    # 재귀 한도 초과 예외 처리\n",
    "    pprint.pprint(f\"Recursion limit reached: {e}\")\n",
    "except Exception as e:\n",
    "    # 기타 예외 처리\n",
    "    pprint.pprint(f\"Error during app.invoke: {e}\")\n",
    "\n"
   ]
  }
 ],
 "metadata": {
  "kernelspec": {
   "display_name": "py-test",
   "language": "python",
   "name": "python3"
  },
  "language_info": {
   "codemirror_mode": {
    "name": "ipython",
    "version": 3
   },
   "file_extension": ".py",
   "mimetype": "text/x-python",
   "name": "python",
   "nbconvert_exporter": "python",
   "pygments_lexer": "ipython3",
   "version": "3.12.3"
  }
 },
 "nbformat": 4,
 "nbformat_minor": 5
}
