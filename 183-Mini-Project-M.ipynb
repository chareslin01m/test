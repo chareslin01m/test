{
  "nbformat": 4,
  "nbformat_minor": 0,
  "metadata": {
    "colab": {
      "provenance": [],
      "gpuType": "T4",
      "authorship_tag": "ABX9TyN9OKyXmRQ4lBop5d6mXfgw",
      "include_colab_link": true
    },
    "kernelspec": {
      "name": "python3",
      "display_name": "Python 3"
    },
    "language_info": {
      "name": "python"
    },
    "accelerator": "GPU"
  },
  "cells": [
    {
      "cell_type": "markdown",
      "metadata": {
        "id": "view-in-github",
        "colab_type": "text"
      },
      "source": [
        "<a href=\"https://colab.research.google.com/github/JSJeong-me/GPT-Web/blob/main/183-Mini-Project-M.ipynb\" target=\"_parent\"><img src=\"https://colab.research.google.com/assets/colab-badge.svg\" alt=\"Open In Colab\"/></a>"
      ]
    },
    {
      "cell_type": "code",
      "source": [
        "!pip install openai python-dotenv langchain langchain_openai langchain_community langchain_chroma langchain_text_splitters"
      ],
      "metadata": {
        "id": "zUJjGBp-f-44"
      },
      "execution_count": null,
      "outputs": []
    },
    {
      "cell_type": "code",
      "source": [
        "!echo \"OPENAI_API_KEY=sk-\" >> .env\n",
        "!source /content/.env"
      ],
      "metadata": {
        "id": "N0foeuzdwae0"
      },
      "execution_count": 5,
      "outputs": []
    },
    {
      "cell_type": "code",
      "source": [
        "import os\n",
        "from dotenv import load_dotenv\n",
        "\n",
        "# Load environment variables from .env file\n",
        "load_dotenv()\n",
        "# Access the API key using the variable name defined in the .env file\n",
        "api_key = os.getenv(\"OPENAI_API_KEY\")"
      ],
      "metadata": {
        "id": "j9W7vQ5SZTpe"
      },
      "execution_count": 6,
      "outputs": []
    },
    {
      "cell_type": "markdown",
      "source": [
        "1. Sample texts:\n",
        "\n",
        "texts 리스트에는 샘플 텍스트들이 포함되어 있습니다. 각 텍스트는 광대버섯(Amanita phalloides)에 대한 정보를 제공합니다.\n",
        "Custom text loader function:\n",
        "\n",
        "2. Custom text loader function:\n",
        "\n",
        "load_texts 함수는 주어진 텍스트 리스트를 받아서 Document 객체의 리스트로 변환합니다. Document 객체는 페이지 콘텐츠(텍스트 내용)와 메타데이터를 포함합니다.\n",
        "\n",
        "3.Load the documents:\n",
        "\n",
        "load_texts 함수를 사용하여 raw_documents 변수에 문서를 로드합니다.\n",
        "\n",
        "4. Initialize the text splitter and embeddings:\n",
        "\n",
        "CharacterTextSplitter 객체와 OpenAIEmbeddings 객체를 초기화합니다. CharacterTextSplitter는 텍스트를 일정 크기의 조각으로 분할하고, OpenAIEmbeddings는 텍스트 조각을 임베딩 벡터로 변환하는 역할을 합니다.\n",
        "\n",
        "5. Split the documents into chunks:\n",
        "\n",
        "각 문서를 100자 크기의 텍스트 조각으로 분할합니다. chunk_overlap이 0으로 설정되어 있으므로, 조각 사이에 중복이 없습니다.\n",
        "\n",
        "6. Embed each chunk:\n",
        "\n",
        "각 텍스트 조각을 임베딩합니다. 임베딩은 텍스트 조각을 벡터로 변환하여 기계 학습 모델이 이해할 수 있도록 합니다.\n",
        "\n",
        "7. Initialize the vector store with embedded chunks:\n",
        "\n",
        "Chroma 벡터 스토어를 초기화하고, 임베딩된 텍스트 조각들을 저장합니다. 이 벡터 스토어는 나중에 유사한 텍스트 검색을 수행하는 데 사용됩니다."
      ],
      "metadata": {
        "id": "Y3bc-JF-Jjxz"
      }
    },
    {
      "cell_type": "code",
      "source": [
        "from langchain.embeddings import OpenAIEmbeddings\n",
        "from langchain.text_splitter import CharacterTextSplitter\n",
        "from langchain.vectorstores import Chroma\n",
        "from langchain.docstore.document import Document  # Import the Document class\n",
        "\n",
        "# Sample texts\n",
        "texts = [\n",
        "    \"광대버섯(Amanita phalloides)은 크고 인상적인 후성(위) 자실체(담자과체)를 가지고 있습니다.\",\n",
        "    \"큰 자실체를 가진 버섯은 Amanita phalloides입니다. 일부 품종은 모두 흰색입니다.\",\n",
        "    \"A. phalloides, 일명 Death Cap은 알려진 모든 버섯 중에서 가장 독성이 강한 버섯 중 하나입니다.\",\n",
        "]\n",
        "\n",
        "# Custom text loader function\n",
        "def load_texts(text_list):\n",
        "    documents = []\n",
        "    for text in text_list:\n",
        "        documents.append(Document(page_content=text, metadata={}))  # Create Document objects\n",
        "    return documents\n",
        "\n",
        "# Load the documents\n",
        "raw_documents = load_texts(texts)\n",
        "\n",
        "# Initialize the text splitter and embeddings\n",
        "text_splitter = CharacterTextSplitter(chunk_size=100, chunk_overlap=0)\n",
        "embeddings = OpenAIEmbeddings()\n",
        "\n",
        "# Split the documents into chunks\n",
        "chunks = []\n",
        "for doc in raw_documents:\n",
        "    chunks.extend(text_splitter.split_text(doc.page_content))\n",
        "\n",
        "# Embed each chunk\n",
        "embedded_chunks = embeddings.embed_documents([chunk for chunk in chunks])  # Pass list of strings\n",
        "\n",
        "# Initialize the vector store with embedded chunks\n",
        "vector_store = Chroma.from_documents(\n",
        "    [Document(page_content=chunk, metadata={}) for chunk in chunks],\n",
        "    embeddings\n",
        ")"
      ],
      "metadata": {
        "id": "E8Twmg9fkqMF"
      },
      "execution_count": 7,
      "outputs": []
    },
    {
      "cell_type": "code",
      "source": [
        "def dynamic_search(question):\n",
        "    try:\n",
        "        k = int(input(\"원하는 검색 결과의 수를 입력하세요 (1-3): \"))\n",
        "        if k < 1 or k > 3:\n",
        "            raise ValueError(\"검색 결과의 수는 1에서 3 사이여야 합니다.\")\n",
        "    except ValueError as e:\n",
        "        print(f\"잘못된 입력입니다: {e}\")\n",
        "        return []\n",
        "\n",
        "    # Ensure vector_store is properly initialized and accessible\n",
        "    return vector_store.similarity_search_with_score(query=question, k=k)"
      ],
      "metadata": {
        "id": "QL-JWoS3mrV6"
      },
      "execution_count": 8,
      "outputs": []
    },
    {
      "cell_type": "code",
      "source": [
        "# 사용자 질문에 따른 검색\n",
        "question = \"큰 자실체를 가진 순백색 버섯에 대해 알려주세요\"\n",
        "search_results = dynamic_search(question)\n",
        "print(\"검색 결과:\", search_results)"
      ],
      "metadata": {
        "id": "GMIMU1A4xTI5",
        "outputId": "7d0e0345-83b9-41bf-a9f3-50c511426af6",
        "colab": {
          "base_uri": "https://localhost:8080/"
        }
      },
      "execution_count": 9,
      "outputs": [
        {
          "output_type": "stream",
          "name": "stdout",
          "text": [
            "원하는 검색 결과의 수를 입력하세요 (1-3): 3\n",
            "검색 결과: [(Document(page_content='큰 자실체를 가진 버섯은 Amanita phalloides입니다. 일부 품종은 모두 흰색입니다.'), 0.20683617889881134), (Document(page_content='A. phalloides, 일명 Death Cap은 알려진 모든 버섯 중에서 가장 독성이 강한 버섯 중 하나입니다.'), 0.31660449504852295), (Document(page_content='광대버섯(Amanita phalloides)은 크고 인상적인 후성(위) 자실체(담자과체)를 가지고 있습니다.'), 0.31732723116874695)]\n"
          ]
        }
      ]
    }
  ]
}
